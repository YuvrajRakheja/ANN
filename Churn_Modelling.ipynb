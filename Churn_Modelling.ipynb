{
  "nbformat": 4,
  "nbformat_minor": 0,
  "metadata": {
    "colab": {
      "name": "Churn-Modelling.ipynb",
      "provenance": [],
      "include_colab_link": true
    },
    "kernelspec": {
      "name": "python3",
      "display_name": "Python 3"
    },
    "language_info": {
      "name": "python"
    },
    "accelerator": "GPU"
  },
  "cells": [
    {
      "cell_type": "markdown",
      "metadata": {
        "id": "view-in-github",
        "colab_type": "text"
      },
      "source": [
        "<a href=\"https://colab.research.google.com/github/YuvrajRakheja/ANN/blob/main/Churn_Modelling.ipynb\" target=\"_parent\"><img src=\"https://colab.research.google.com/assets/colab-badge.svg\" alt=\"Open In Colab\"/></a>"
      ]
    },
    {
      "cell_type": "code",
      "execution_count": 1,
      "metadata": {
        "id": "Mnvbj27LUS3X"
      },
      "outputs": [],
      "source": [
        "import numpy as np\n",
        "import matplotlib.pyplot as plt\n",
        "import pandas as pd"
      ]
    },
    {
      "cell_type": "code",
      "source": [
        "dataset = pd.read_csv('https://raw.githubusercontent.com/YuvrajRakheja/ANN/main/Churn_Modelling.csv')"
      ],
      "metadata": {
        "id": "AojrrJCRXtKh"
      },
      "execution_count": 2,
      "outputs": []
    },
    {
      "cell_type": "code",
      "source": [
        "dataset.head()"
      ],
      "metadata": {
        "colab": {
          "base_uri": "https://localhost:8080/",
          "height": 206
        },
        "id": "58fJjqAxXyxN",
        "outputId": "8eda2d6a-0cea-4a50-b69f-7259d2cfad75"
      },
      "execution_count": 3,
      "outputs": [
        {
          "output_type": "execute_result",
          "data": {
            "text/plain": [
              "   RowNumber  CustomerId   Surname  CreditScore Geography  Gender  Age  \\\n",
              "0          1    15634602  Hargrave          619    France  Female   42   \n",
              "1          2    15647311      Hill          608     Spain  Female   41   \n",
              "2          3    15619304      Onio          502    France  Female   42   \n",
              "3          4    15701354      Boni          699    France  Female   39   \n",
              "4          5    15737888  Mitchell          850     Spain  Female   43   \n",
              "\n",
              "   Tenure    Balance  NumOfProducts  HasCrCard  IsActiveMember  \\\n",
              "0       2       0.00              1          1               1   \n",
              "1       1   83807.86              1          0               1   \n",
              "2       8  159660.80              3          1               0   \n",
              "3       1       0.00              2          0               0   \n",
              "4       2  125510.82              1          1               1   \n",
              "\n",
              "   EstimatedSalary  Exited  \n",
              "0        101348.88       1  \n",
              "1        112542.58       0  \n",
              "2        113931.57       1  \n",
              "3         93826.63       0  \n",
              "4         79084.10       0  "
            ],
            "text/html": [
              "\n",
              "  <div id=\"df-b09953cf-7931-4338-a235-4160493e1aa3\">\n",
              "    <div class=\"colab-df-container\">\n",
              "      <div>\n",
              "<style scoped>\n",
              "    .dataframe tbody tr th:only-of-type {\n",
              "        vertical-align: middle;\n",
              "    }\n",
              "\n",
              "    .dataframe tbody tr th {\n",
              "        vertical-align: top;\n",
              "    }\n",
              "\n",
              "    .dataframe thead th {\n",
              "        text-align: right;\n",
              "    }\n",
              "</style>\n",
              "<table border=\"1\" class=\"dataframe\">\n",
              "  <thead>\n",
              "    <tr style=\"text-align: right;\">\n",
              "      <th></th>\n",
              "      <th>RowNumber</th>\n",
              "      <th>CustomerId</th>\n",
              "      <th>Surname</th>\n",
              "      <th>CreditScore</th>\n",
              "      <th>Geography</th>\n",
              "      <th>Gender</th>\n",
              "      <th>Age</th>\n",
              "      <th>Tenure</th>\n",
              "      <th>Balance</th>\n",
              "      <th>NumOfProducts</th>\n",
              "      <th>HasCrCard</th>\n",
              "      <th>IsActiveMember</th>\n",
              "      <th>EstimatedSalary</th>\n",
              "      <th>Exited</th>\n",
              "    </tr>\n",
              "  </thead>\n",
              "  <tbody>\n",
              "    <tr>\n",
              "      <th>0</th>\n",
              "      <td>1</td>\n",
              "      <td>15634602</td>\n",
              "      <td>Hargrave</td>\n",
              "      <td>619</td>\n",
              "      <td>France</td>\n",
              "      <td>Female</td>\n",
              "      <td>42</td>\n",
              "      <td>2</td>\n",
              "      <td>0.00</td>\n",
              "      <td>1</td>\n",
              "      <td>1</td>\n",
              "      <td>1</td>\n",
              "      <td>101348.88</td>\n",
              "      <td>1</td>\n",
              "    </tr>\n",
              "    <tr>\n",
              "      <th>1</th>\n",
              "      <td>2</td>\n",
              "      <td>15647311</td>\n",
              "      <td>Hill</td>\n",
              "      <td>608</td>\n",
              "      <td>Spain</td>\n",
              "      <td>Female</td>\n",
              "      <td>41</td>\n",
              "      <td>1</td>\n",
              "      <td>83807.86</td>\n",
              "      <td>1</td>\n",
              "      <td>0</td>\n",
              "      <td>1</td>\n",
              "      <td>112542.58</td>\n",
              "      <td>0</td>\n",
              "    </tr>\n",
              "    <tr>\n",
              "      <th>2</th>\n",
              "      <td>3</td>\n",
              "      <td>15619304</td>\n",
              "      <td>Onio</td>\n",
              "      <td>502</td>\n",
              "      <td>France</td>\n",
              "      <td>Female</td>\n",
              "      <td>42</td>\n",
              "      <td>8</td>\n",
              "      <td>159660.80</td>\n",
              "      <td>3</td>\n",
              "      <td>1</td>\n",
              "      <td>0</td>\n",
              "      <td>113931.57</td>\n",
              "      <td>1</td>\n",
              "    </tr>\n",
              "    <tr>\n",
              "      <th>3</th>\n",
              "      <td>4</td>\n",
              "      <td>15701354</td>\n",
              "      <td>Boni</td>\n",
              "      <td>699</td>\n",
              "      <td>France</td>\n",
              "      <td>Female</td>\n",
              "      <td>39</td>\n",
              "      <td>1</td>\n",
              "      <td>0.00</td>\n",
              "      <td>2</td>\n",
              "      <td>0</td>\n",
              "      <td>0</td>\n",
              "      <td>93826.63</td>\n",
              "      <td>0</td>\n",
              "    </tr>\n",
              "    <tr>\n",
              "      <th>4</th>\n",
              "      <td>5</td>\n",
              "      <td>15737888</td>\n",
              "      <td>Mitchell</td>\n",
              "      <td>850</td>\n",
              "      <td>Spain</td>\n",
              "      <td>Female</td>\n",
              "      <td>43</td>\n",
              "      <td>2</td>\n",
              "      <td>125510.82</td>\n",
              "      <td>1</td>\n",
              "      <td>1</td>\n",
              "      <td>1</td>\n",
              "      <td>79084.10</td>\n",
              "      <td>0</td>\n",
              "    </tr>\n",
              "  </tbody>\n",
              "</table>\n",
              "</div>\n",
              "      <button class=\"colab-df-convert\" onclick=\"convertToInteractive('df-b09953cf-7931-4338-a235-4160493e1aa3')\"\n",
              "              title=\"Convert this dataframe to an interactive table.\"\n",
              "              style=\"display:none;\">\n",
              "        \n",
              "  <svg xmlns=\"http://www.w3.org/2000/svg\" height=\"24px\"viewBox=\"0 0 24 24\"\n",
              "       width=\"24px\">\n",
              "    <path d=\"M0 0h24v24H0V0z\" fill=\"none\"/>\n",
              "    <path d=\"M18.56 5.44l.94 2.06.94-2.06 2.06-.94-2.06-.94-.94-2.06-.94 2.06-2.06.94zm-11 1L8.5 8.5l.94-2.06 2.06-.94-2.06-.94L8.5 2.5l-.94 2.06-2.06.94zm10 10l.94 2.06.94-2.06 2.06-.94-2.06-.94-.94-2.06-.94 2.06-2.06.94z\"/><path d=\"M17.41 7.96l-1.37-1.37c-.4-.4-.92-.59-1.43-.59-.52 0-1.04.2-1.43.59L10.3 9.45l-7.72 7.72c-.78.78-.78 2.05 0 2.83L4 21.41c.39.39.9.59 1.41.59.51 0 1.02-.2 1.41-.59l7.78-7.78 2.81-2.81c.8-.78.8-2.07 0-2.86zM5.41 20L4 18.59l7.72-7.72 1.47 1.35L5.41 20z\"/>\n",
              "  </svg>\n",
              "      </button>\n",
              "      \n",
              "  <style>\n",
              "    .colab-df-container {\n",
              "      display:flex;\n",
              "      flex-wrap:wrap;\n",
              "      gap: 12px;\n",
              "    }\n",
              "\n",
              "    .colab-df-convert {\n",
              "      background-color: #E8F0FE;\n",
              "      border: none;\n",
              "      border-radius: 50%;\n",
              "      cursor: pointer;\n",
              "      display: none;\n",
              "      fill: #1967D2;\n",
              "      height: 32px;\n",
              "      padding: 0 0 0 0;\n",
              "      width: 32px;\n",
              "    }\n",
              "\n",
              "    .colab-df-convert:hover {\n",
              "      background-color: #E2EBFA;\n",
              "      box-shadow: 0px 1px 2px rgba(60, 64, 67, 0.3), 0px 1px 3px 1px rgba(60, 64, 67, 0.15);\n",
              "      fill: #174EA6;\n",
              "    }\n",
              "\n",
              "    [theme=dark] .colab-df-convert {\n",
              "      background-color: #3B4455;\n",
              "      fill: #D2E3FC;\n",
              "    }\n",
              "\n",
              "    [theme=dark] .colab-df-convert:hover {\n",
              "      background-color: #434B5C;\n",
              "      box-shadow: 0px 1px 3px 1px rgba(0, 0, 0, 0.15);\n",
              "      filter: drop-shadow(0px 1px 2px rgba(0, 0, 0, 0.3));\n",
              "      fill: #FFFFFF;\n",
              "    }\n",
              "  </style>\n",
              "\n",
              "      <script>\n",
              "        const buttonEl =\n",
              "          document.querySelector('#df-b09953cf-7931-4338-a235-4160493e1aa3 button.colab-df-convert');\n",
              "        buttonEl.style.display =\n",
              "          google.colab.kernel.accessAllowed ? 'block' : 'none';\n",
              "\n",
              "        async function convertToInteractive(key) {\n",
              "          const element = document.querySelector('#df-b09953cf-7931-4338-a235-4160493e1aa3');\n",
              "          const dataTable =\n",
              "            await google.colab.kernel.invokeFunction('convertToInteractive',\n",
              "                                                     [key], {});\n",
              "          if (!dataTable) return;\n",
              "\n",
              "          const docLinkHtml = 'Like what you see? Visit the ' +\n",
              "            '<a target=\"_blank\" href=https://colab.research.google.com/notebooks/data_table.ipynb>data table notebook</a>'\n",
              "            + ' to learn more about interactive tables.';\n",
              "          element.innerHTML = '';\n",
              "          dataTable['output_type'] = 'display_data';\n",
              "          await google.colab.output.renderOutput(dataTable, element);\n",
              "          const docLink = document.createElement('div');\n",
              "          docLink.innerHTML = docLinkHtml;\n",
              "          element.appendChild(docLink);\n",
              "        }\n",
              "      </script>\n",
              "    </div>\n",
              "  </div>\n",
              "  "
            ]
          },
          "metadata": {},
          "execution_count": 3
        }
      ]
    },
    {
      "cell_type": "code",
      "source": [
        "dataset.shape"
      ],
      "metadata": {
        "colab": {
          "base_uri": "https://localhost:8080/"
        },
        "id": "cVe0IXqTHZPH",
        "outputId": "1b89bb18-ac17-4d49-c0e8-7c4aeba813cc"
      },
      "execution_count": 4,
      "outputs": [
        {
          "output_type": "execute_result",
          "data": {
            "text/plain": [
              "(10000, 14)"
            ]
          },
          "metadata": {},
          "execution_count": 4
        }
      ]
    },
    {
      "cell_type": "code",
      "source": [
        "X = dataset.iloc[:, 3:13]"
      ],
      "metadata": {
        "id": "-7Jcdk4uX0v7"
      },
      "execution_count": 5,
      "outputs": []
    },
    {
      "cell_type": "code",
      "source": [
        "X"
      ],
      "metadata": {
        "colab": {
          "base_uri": "https://localhost:8080/",
          "height": 423
        },
        "id": "7VMeDZfTYCy6",
        "outputId": "9c078674-ddcb-4247-9a47-878364220c6b"
      },
      "execution_count": 6,
      "outputs": [
        {
          "output_type": "execute_result",
          "data": {
            "text/plain": [
              "      CreditScore Geography  Gender  Age  Tenure    Balance  NumOfProducts  \\\n",
              "0             619    France  Female   42       2       0.00              1   \n",
              "1             608     Spain  Female   41       1   83807.86              1   \n",
              "2             502    France  Female   42       8  159660.80              3   \n",
              "3             699    France  Female   39       1       0.00              2   \n",
              "4             850     Spain  Female   43       2  125510.82              1   \n",
              "...           ...       ...     ...  ...     ...        ...            ...   \n",
              "9995          771    France    Male   39       5       0.00              2   \n",
              "9996          516    France    Male   35      10   57369.61              1   \n",
              "9997          709    France  Female   36       7       0.00              1   \n",
              "9998          772   Germany    Male   42       3   75075.31              2   \n",
              "9999          792    France  Female   28       4  130142.79              1   \n",
              "\n",
              "      HasCrCard  IsActiveMember  EstimatedSalary  \n",
              "0             1               1        101348.88  \n",
              "1             0               1        112542.58  \n",
              "2             1               0        113931.57  \n",
              "3             0               0         93826.63  \n",
              "4             1               1         79084.10  \n",
              "...         ...             ...              ...  \n",
              "9995          1               0         96270.64  \n",
              "9996          1               1        101699.77  \n",
              "9997          0               1         42085.58  \n",
              "9998          1               0         92888.52  \n",
              "9999          1               0         38190.78  \n",
              "\n",
              "[10000 rows x 10 columns]"
            ],
            "text/html": [
              "\n",
              "  <div id=\"df-b63cda21-08d1-4258-a34b-dcd4e1383574\">\n",
              "    <div class=\"colab-df-container\">\n",
              "      <div>\n",
              "<style scoped>\n",
              "    .dataframe tbody tr th:only-of-type {\n",
              "        vertical-align: middle;\n",
              "    }\n",
              "\n",
              "    .dataframe tbody tr th {\n",
              "        vertical-align: top;\n",
              "    }\n",
              "\n",
              "    .dataframe thead th {\n",
              "        text-align: right;\n",
              "    }\n",
              "</style>\n",
              "<table border=\"1\" class=\"dataframe\">\n",
              "  <thead>\n",
              "    <tr style=\"text-align: right;\">\n",
              "      <th></th>\n",
              "      <th>CreditScore</th>\n",
              "      <th>Geography</th>\n",
              "      <th>Gender</th>\n",
              "      <th>Age</th>\n",
              "      <th>Tenure</th>\n",
              "      <th>Balance</th>\n",
              "      <th>NumOfProducts</th>\n",
              "      <th>HasCrCard</th>\n",
              "      <th>IsActiveMember</th>\n",
              "      <th>EstimatedSalary</th>\n",
              "    </tr>\n",
              "  </thead>\n",
              "  <tbody>\n",
              "    <tr>\n",
              "      <th>0</th>\n",
              "      <td>619</td>\n",
              "      <td>France</td>\n",
              "      <td>Female</td>\n",
              "      <td>42</td>\n",
              "      <td>2</td>\n",
              "      <td>0.00</td>\n",
              "      <td>1</td>\n",
              "      <td>1</td>\n",
              "      <td>1</td>\n",
              "      <td>101348.88</td>\n",
              "    </tr>\n",
              "    <tr>\n",
              "      <th>1</th>\n",
              "      <td>608</td>\n",
              "      <td>Spain</td>\n",
              "      <td>Female</td>\n",
              "      <td>41</td>\n",
              "      <td>1</td>\n",
              "      <td>83807.86</td>\n",
              "      <td>1</td>\n",
              "      <td>0</td>\n",
              "      <td>1</td>\n",
              "      <td>112542.58</td>\n",
              "    </tr>\n",
              "    <tr>\n",
              "      <th>2</th>\n",
              "      <td>502</td>\n",
              "      <td>France</td>\n",
              "      <td>Female</td>\n",
              "      <td>42</td>\n",
              "      <td>8</td>\n",
              "      <td>159660.80</td>\n",
              "      <td>3</td>\n",
              "      <td>1</td>\n",
              "      <td>0</td>\n",
              "      <td>113931.57</td>\n",
              "    </tr>\n",
              "    <tr>\n",
              "      <th>3</th>\n",
              "      <td>699</td>\n",
              "      <td>France</td>\n",
              "      <td>Female</td>\n",
              "      <td>39</td>\n",
              "      <td>1</td>\n",
              "      <td>0.00</td>\n",
              "      <td>2</td>\n",
              "      <td>0</td>\n",
              "      <td>0</td>\n",
              "      <td>93826.63</td>\n",
              "    </tr>\n",
              "    <tr>\n",
              "      <th>4</th>\n",
              "      <td>850</td>\n",
              "      <td>Spain</td>\n",
              "      <td>Female</td>\n",
              "      <td>43</td>\n",
              "      <td>2</td>\n",
              "      <td>125510.82</td>\n",
              "      <td>1</td>\n",
              "      <td>1</td>\n",
              "      <td>1</td>\n",
              "      <td>79084.10</td>\n",
              "    </tr>\n",
              "    <tr>\n",
              "      <th>...</th>\n",
              "      <td>...</td>\n",
              "      <td>...</td>\n",
              "      <td>...</td>\n",
              "      <td>...</td>\n",
              "      <td>...</td>\n",
              "      <td>...</td>\n",
              "      <td>...</td>\n",
              "      <td>...</td>\n",
              "      <td>...</td>\n",
              "      <td>...</td>\n",
              "    </tr>\n",
              "    <tr>\n",
              "      <th>9995</th>\n",
              "      <td>771</td>\n",
              "      <td>France</td>\n",
              "      <td>Male</td>\n",
              "      <td>39</td>\n",
              "      <td>5</td>\n",
              "      <td>0.00</td>\n",
              "      <td>2</td>\n",
              "      <td>1</td>\n",
              "      <td>0</td>\n",
              "      <td>96270.64</td>\n",
              "    </tr>\n",
              "    <tr>\n",
              "      <th>9996</th>\n",
              "      <td>516</td>\n",
              "      <td>France</td>\n",
              "      <td>Male</td>\n",
              "      <td>35</td>\n",
              "      <td>10</td>\n",
              "      <td>57369.61</td>\n",
              "      <td>1</td>\n",
              "      <td>1</td>\n",
              "      <td>1</td>\n",
              "      <td>101699.77</td>\n",
              "    </tr>\n",
              "    <tr>\n",
              "      <th>9997</th>\n",
              "      <td>709</td>\n",
              "      <td>France</td>\n",
              "      <td>Female</td>\n",
              "      <td>36</td>\n",
              "      <td>7</td>\n",
              "      <td>0.00</td>\n",
              "      <td>1</td>\n",
              "      <td>0</td>\n",
              "      <td>1</td>\n",
              "      <td>42085.58</td>\n",
              "    </tr>\n",
              "    <tr>\n",
              "      <th>9998</th>\n",
              "      <td>772</td>\n",
              "      <td>Germany</td>\n",
              "      <td>Male</td>\n",
              "      <td>42</td>\n",
              "      <td>3</td>\n",
              "      <td>75075.31</td>\n",
              "      <td>2</td>\n",
              "      <td>1</td>\n",
              "      <td>0</td>\n",
              "      <td>92888.52</td>\n",
              "    </tr>\n",
              "    <tr>\n",
              "      <th>9999</th>\n",
              "      <td>792</td>\n",
              "      <td>France</td>\n",
              "      <td>Female</td>\n",
              "      <td>28</td>\n",
              "      <td>4</td>\n",
              "      <td>130142.79</td>\n",
              "      <td>1</td>\n",
              "      <td>1</td>\n",
              "      <td>0</td>\n",
              "      <td>38190.78</td>\n",
              "    </tr>\n",
              "  </tbody>\n",
              "</table>\n",
              "<p>10000 rows × 10 columns</p>\n",
              "</div>\n",
              "      <button class=\"colab-df-convert\" onclick=\"convertToInteractive('df-b63cda21-08d1-4258-a34b-dcd4e1383574')\"\n",
              "              title=\"Convert this dataframe to an interactive table.\"\n",
              "              style=\"display:none;\">\n",
              "        \n",
              "  <svg xmlns=\"http://www.w3.org/2000/svg\" height=\"24px\"viewBox=\"0 0 24 24\"\n",
              "       width=\"24px\">\n",
              "    <path d=\"M0 0h24v24H0V0z\" fill=\"none\"/>\n",
              "    <path d=\"M18.56 5.44l.94 2.06.94-2.06 2.06-.94-2.06-.94-.94-2.06-.94 2.06-2.06.94zm-11 1L8.5 8.5l.94-2.06 2.06-.94-2.06-.94L8.5 2.5l-.94 2.06-2.06.94zm10 10l.94 2.06.94-2.06 2.06-.94-2.06-.94-.94-2.06-.94 2.06-2.06.94z\"/><path d=\"M17.41 7.96l-1.37-1.37c-.4-.4-.92-.59-1.43-.59-.52 0-1.04.2-1.43.59L10.3 9.45l-7.72 7.72c-.78.78-.78 2.05 0 2.83L4 21.41c.39.39.9.59 1.41.59.51 0 1.02-.2 1.41-.59l7.78-7.78 2.81-2.81c.8-.78.8-2.07 0-2.86zM5.41 20L4 18.59l7.72-7.72 1.47 1.35L5.41 20z\"/>\n",
              "  </svg>\n",
              "      </button>\n",
              "      \n",
              "  <style>\n",
              "    .colab-df-container {\n",
              "      display:flex;\n",
              "      flex-wrap:wrap;\n",
              "      gap: 12px;\n",
              "    }\n",
              "\n",
              "    .colab-df-convert {\n",
              "      background-color: #E8F0FE;\n",
              "      border: none;\n",
              "      border-radius: 50%;\n",
              "      cursor: pointer;\n",
              "      display: none;\n",
              "      fill: #1967D2;\n",
              "      height: 32px;\n",
              "      padding: 0 0 0 0;\n",
              "      width: 32px;\n",
              "    }\n",
              "\n",
              "    .colab-df-convert:hover {\n",
              "      background-color: #E2EBFA;\n",
              "      box-shadow: 0px 1px 2px rgba(60, 64, 67, 0.3), 0px 1px 3px 1px rgba(60, 64, 67, 0.15);\n",
              "      fill: #174EA6;\n",
              "    }\n",
              "\n",
              "    [theme=dark] .colab-df-convert {\n",
              "      background-color: #3B4455;\n",
              "      fill: #D2E3FC;\n",
              "    }\n",
              "\n",
              "    [theme=dark] .colab-df-convert:hover {\n",
              "      background-color: #434B5C;\n",
              "      box-shadow: 0px 1px 3px 1px rgba(0, 0, 0, 0.15);\n",
              "      filter: drop-shadow(0px 1px 2px rgba(0, 0, 0, 0.3));\n",
              "      fill: #FFFFFF;\n",
              "    }\n",
              "  </style>\n",
              "\n",
              "      <script>\n",
              "        const buttonEl =\n",
              "          document.querySelector('#df-b63cda21-08d1-4258-a34b-dcd4e1383574 button.colab-df-convert');\n",
              "        buttonEl.style.display =\n",
              "          google.colab.kernel.accessAllowed ? 'block' : 'none';\n",
              "\n",
              "        async function convertToInteractive(key) {\n",
              "          const element = document.querySelector('#df-b63cda21-08d1-4258-a34b-dcd4e1383574');\n",
              "          const dataTable =\n",
              "            await google.colab.kernel.invokeFunction('convertToInteractive',\n",
              "                                                     [key], {});\n",
              "          if (!dataTable) return;\n",
              "\n",
              "          const docLinkHtml = 'Like what you see? Visit the ' +\n",
              "            '<a target=\"_blank\" href=https://colab.research.google.com/notebooks/data_table.ipynb>data table notebook</a>'\n",
              "            + ' to learn more about interactive tables.';\n",
              "          element.innerHTML = '';\n",
              "          dataTable['output_type'] = 'display_data';\n",
              "          await google.colab.output.renderOutput(dataTable, element);\n",
              "          const docLink = document.createElement('div');\n",
              "          docLink.innerHTML = docLinkHtml;\n",
              "          element.appendChild(docLink);\n",
              "        }\n",
              "      </script>\n",
              "    </div>\n",
              "  </div>\n",
              "  "
            ]
          },
          "metadata": {},
          "execution_count": 6
        }
      ]
    },
    {
      "cell_type": "code",
      "source": [
        "y=dataset.iloc[:,13]"
      ],
      "metadata": {
        "id": "AQ4qhsocYDWs"
      },
      "execution_count": 7,
      "outputs": []
    },
    {
      "cell_type": "code",
      "source": [
        "geography=pd.get_dummies(X[\"Geography\"],drop_first=True)\n",
        "gender=pd.get_dummies(X['Gender'],drop_first=True)"
      ],
      "metadata": {
        "id": "mOK5Y0NUYKeJ"
      },
      "execution_count": 8,
      "outputs": []
    },
    {
      "cell_type": "code",
      "source": [
        "X=pd.concat([X,geography,gender],axis=1)"
      ],
      "metadata": {
        "id": "Crs2ruGHYLIK"
      },
      "execution_count": 9,
      "outputs": []
    },
    {
      "cell_type": "code",
      "source": [
        "X.drop(['Geography','Gender'],axis=1,inplace=True)"
      ],
      "metadata": {
        "id": "pl4Bx7TRYa8D"
      },
      "execution_count": 10,
      "outputs": []
    },
    {
      "cell_type": "code",
      "source": [
        "X"
      ],
      "metadata": {
        "colab": {
          "base_uri": "https://localhost:8080/",
          "height": 423
        },
        "id": "pPMg4gT2Yb6r",
        "outputId": "7f9d2eb2-e47a-4642-c5a1-505be161f4ed"
      },
      "execution_count": 11,
      "outputs": [
        {
          "output_type": "execute_result",
          "data": {
            "text/plain": [
              "      CreditScore  Age  Tenure    Balance  NumOfProducts  HasCrCard  \\\n",
              "0             619   42       2       0.00              1          1   \n",
              "1             608   41       1   83807.86              1          0   \n",
              "2             502   42       8  159660.80              3          1   \n",
              "3             699   39       1       0.00              2          0   \n",
              "4             850   43       2  125510.82              1          1   \n",
              "...           ...  ...     ...        ...            ...        ...   \n",
              "9995          771   39       5       0.00              2          1   \n",
              "9996          516   35      10   57369.61              1          1   \n",
              "9997          709   36       7       0.00              1          0   \n",
              "9998          772   42       3   75075.31              2          1   \n",
              "9999          792   28       4  130142.79              1          1   \n",
              "\n",
              "      IsActiveMember  EstimatedSalary  Germany  Spain  Male  \n",
              "0                  1        101348.88        0      0     0  \n",
              "1                  1        112542.58        0      1     0  \n",
              "2                  0        113931.57        0      0     0  \n",
              "3                  0         93826.63        0      0     0  \n",
              "4                  1         79084.10        0      1     0  \n",
              "...              ...              ...      ...    ...   ...  \n",
              "9995               0         96270.64        0      0     1  \n",
              "9996               1        101699.77        0      0     1  \n",
              "9997               1         42085.58        0      0     0  \n",
              "9998               0         92888.52        1      0     1  \n",
              "9999               0         38190.78        0      0     0  \n",
              "\n",
              "[10000 rows x 11 columns]"
            ],
            "text/html": [
              "\n",
              "  <div id=\"df-1383bc43-0587-468d-a245-05c49a88ed89\">\n",
              "    <div class=\"colab-df-container\">\n",
              "      <div>\n",
              "<style scoped>\n",
              "    .dataframe tbody tr th:only-of-type {\n",
              "        vertical-align: middle;\n",
              "    }\n",
              "\n",
              "    .dataframe tbody tr th {\n",
              "        vertical-align: top;\n",
              "    }\n",
              "\n",
              "    .dataframe thead th {\n",
              "        text-align: right;\n",
              "    }\n",
              "</style>\n",
              "<table border=\"1\" class=\"dataframe\">\n",
              "  <thead>\n",
              "    <tr style=\"text-align: right;\">\n",
              "      <th></th>\n",
              "      <th>CreditScore</th>\n",
              "      <th>Age</th>\n",
              "      <th>Tenure</th>\n",
              "      <th>Balance</th>\n",
              "      <th>NumOfProducts</th>\n",
              "      <th>HasCrCard</th>\n",
              "      <th>IsActiveMember</th>\n",
              "      <th>EstimatedSalary</th>\n",
              "      <th>Germany</th>\n",
              "      <th>Spain</th>\n",
              "      <th>Male</th>\n",
              "    </tr>\n",
              "  </thead>\n",
              "  <tbody>\n",
              "    <tr>\n",
              "      <th>0</th>\n",
              "      <td>619</td>\n",
              "      <td>42</td>\n",
              "      <td>2</td>\n",
              "      <td>0.00</td>\n",
              "      <td>1</td>\n",
              "      <td>1</td>\n",
              "      <td>1</td>\n",
              "      <td>101348.88</td>\n",
              "      <td>0</td>\n",
              "      <td>0</td>\n",
              "      <td>0</td>\n",
              "    </tr>\n",
              "    <tr>\n",
              "      <th>1</th>\n",
              "      <td>608</td>\n",
              "      <td>41</td>\n",
              "      <td>1</td>\n",
              "      <td>83807.86</td>\n",
              "      <td>1</td>\n",
              "      <td>0</td>\n",
              "      <td>1</td>\n",
              "      <td>112542.58</td>\n",
              "      <td>0</td>\n",
              "      <td>1</td>\n",
              "      <td>0</td>\n",
              "    </tr>\n",
              "    <tr>\n",
              "      <th>2</th>\n",
              "      <td>502</td>\n",
              "      <td>42</td>\n",
              "      <td>8</td>\n",
              "      <td>159660.80</td>\n",
              "      <td>3</td>\n",
              "      <td>1</td>\n",
              "      <td>0</td>\n",
              "      <td>113931.57</td>\n",
              "      <td>0</td>\n",
              "      <td>0</td>\n",
              "      <td>0</td>\n",
              "    </tr>\n",
              "    <tr>\n",
              "      <th>3</th>\n",
              "      <td>699</td>\n",
              "      <td>39</td>\n",
              "      <td>1</td>\n",
              "      <td>0.00</td>\n",
              "      <td>2</td>\n",
              "      <td>0</td>\n",
              "      <td>0</td>\n",
              "      <td>93826.63</td>\n",
              "      <td>0</td>\n",
              "      <td>0</td>\n",
              "      <td>0</td>\n",
              "    </tr>\n",
              "    <tr>\n",
              "      <th>4</th>\n",
              "      <td>850</td>\n",
              "      <td>43</td>\n",
              "      <td>2</td>\n",
              "      <td>125510.82</td>\n",
              "      <td>1</td>\n",
              "      <td>1</td>\n",
              "      <td>1</td>\n",
              "      <td>79084.10</td>\n",
              "      <td>0</td>\n",
              "      <td>1</td>\n",
              "      <td>0</td>\n",
              "    </tr>\n",
              "    <tr>\n",
              "      <th>...</th>\n",
              "      <td>...</td>\n",
              "      <td>...</td>\n",
              "      <td>...</td>\n",
              "      <td>...</td>\n",
              "      <td>...</td>\n",
              "      <td>...</td>\n",
              "      <td>...</td>\n",
              "      <td>...</td>\n",
              "      <td>...</td>\n",
              "      <td>...</td>\n",
              "      <td>...</td>\n",
              "    </tr>\n",
              "    <tr>\n",
              "      <th>9995</th>\n",
              "      <td>771</td>\n",
              "      <td>39</td>\n",
              "      <td>5</td>\n",
              "      <td>0.00</td>\n",
              "      <td>2</td>\n",
              "      <td>1</td>\n",
              "      <td>0</td>\n",
              "      <td>96270.64</td>\n",
              "      <td>0</td>\n",
              "      <td>0</td>\n",
              "      <td>1</td>\n",
              "    </tr>\n",
              "    <tr>\n",
              "      <th>9996</th>\n",
              "      <td>516</td>\n",
              "      <td>35</td>\n",
              "      <td>10</td>\n",
              "      <td>57369.61</td>\n",
              "      <td>1</td>\n",
              "      <td>1</td>\n",
              "      <td>1</td>\n",
              "      <td>101699.77</td>\n",
              "      <td>0</td>\n",
              "      <td>0</td>\n",
              "      <td>1</td>\n",
              "    </tr>\n",
              "    <tr>\n",
              "      <th>9997</th>\n",
              "      <td>709</td>\n",
              "      <td>36</td>\n",
              "      <td>7</td>\n",
              "      <td>0.00</td>\n",
              "      <td>1</td>\n",
              "      <td>0</td>\n",
              "      <td>1</td>\n",
              "      <td>42085.58</td>\n",
              "      <td>0</td>\n",
              "      <td>0</td>\n",
              "      <td>0</td>\n",
              "    </tr>\n",
              "    <tr>\n",
              "      <th>9998</th>\n",
              "      <td>772</td>\n",
              "      <td>42</td>\n",
              "      <td>3</td>\n",
              "      <td>75075.31</td>\n",
              "      <td>2</td>\n",
              "      <td>1</td>\n",
              "      <td>0</td>\n",
              "      <td>92888.52</td>\n",
              "      <td>1</td>\n",
              "      <td>0</td>\n",
              "      <td>1</td>\n",
              "    </tr>\n",
              "    <tr>\n",
              "      <th>9999</th>\n",
              "      <td>792</td>\n",
              "      <td>28</td>\n",
              "      <td>4</td>\n",
              "      <td>130142.79</td>\n",
              "      <td>1</td>\n",
              "      <td>1</td>\n",
              "      <td>0</td>\n",
              "      <td>38190.78</td>\n",
              "      <td>0</td>\n",
              "      <td>0</td>\n",
              "      <td>0</td>\n",
              "    </tr>\n",
              "  </tbody>\n",
              "</table>\n",
              "<p>10000 rows × 11 columns</p>\n",
              "</div>\n",
              "      <button class=\"colab-df-convert\" onclick=\"convertToInteractive('df-1383bc43-0587-468d-a245-05c49a88ed89')\"\n",
              "              title=\"Convert this dataframe to an interactive table.\"\n",
              "              style=\"display:none;\">\n",
              "        \n",
              "  <svg xmlns=\"http://www.w3.org/2000/svg\" height=\"24px\"viewBox=\"0 0 24 24\"\n",
              "       width=\"24px\">\n",
              "    <path d=\"M0 0h24v24H0V0z\" fill=\"none\"/>\n",
              "    <path d=\"M18.56 5.44l.94 2.06.94-2.06 2.06-.94-2.06-.94-.94-2.06-.94 2.06-2.06.94zm-11 1L8.5 8.5l.94-2.06 2.06-.94-2.06-.94L8.5 2.5l-.94 2.06-2.06.94zm10 10l.94 2.06.94-2.06 2.06-.94-2.06-.94-.94-2.06-.94 2.06-2.06.94z\"/><path d=\"M17.41 7.96l-1.37-1.37c-.4-.4-.92-.59-1.43-.59-.52 0-1.04.2-1.43.59L10.3 9.45l-7.72 7.72c-.78.78-.78 2.05 0 2.83L4 21.41c.39.39.9.59 1.41.59.51 0 1.02-.2 1.41-.59l7.78-7.78 2.81-2.81c.8-.78.8-2.07 0-2.86zM5.41 20L4 18.59l7.72-7.72 1.47 1.35L5.41 20z\"/>\n",
              "  </svg>\n",
              "      </button>\n",
              "      \n",
              "  <style>\n",
              "    .colab-df-container {\n",
              "      display:flex;\n",
              "      flex-wrap:wrap;\n",
              "      gap: 12px;\n",
              "    }\n",
              "\n",
              "    .colab-df-convert {\n",
              "      background-color: #E8F0FE;\n",
              "      border: none;\n",
              "      border-radius: 50%;\n",
              "      cursor: pointer;\n",
              "      display: none;\n",
              "      fill: #1967D2;\n",
              "      height: 32px;\n",
              "      padding: 0 0 0 0;\n",
              "      width: 32px;\n",
              "    }\n",
              "\n",
              "    .colab-df-convert:hover {\n",
              "      background-color: #E2EBFA;\n",
              "      box-shadow: 0px 1px 2px rgba(60, 64, 67, 0.3), 0px 1px 3px 1px rgba(60, 64, 67, 0.15);\n",
              "      fill: #174EA6;\n",
              "    }\n",
              "\n",
              "    [theme=dark] .colab-df-convert {\n",
              "      background-color: #3B4455;\n",
              "      fill: #D2E3FC;\n",
              "    }\n",
              "\n",
              "    [theme=dark] .colab-df-convert:hover {\n",
              "      background-color: #434B5C;\n",
              "      box-shadow: 0px 1px 3px 1px rgba(0, 0, 0, 0.15);\n",
              "      filter: drop-shadow(0px 1px 2px rgba(0, 0, 0, 0.3));\n",
              "      fill: #FFFFFF;\n",
              "    }\n",
              "  </style>\n",
              "\n",
              "      <script>\n",
              "        const buttonEl =\n",
              "          document.querySelector('#df-1383bc43-0587-468d-a245-05c49a88ed89 button.colab-df-convert');\n",
              "        buttonEl.style.display =\n",
              "          google.colab.kernel.accessAllowed ? 'block' : 'none';\n",
              "\n",
              "        async function convertToInteractive(key) {\n",
              "          const element = document.querySelector('#df-1383bc43-0587-468d-a245-05c49a88ed89');\n",
              "          const dataTable =\n",
              "            await google.colab.kernel.invokeFunction('convertToInteractive',\n",
              "                                                     [key], {});\n",
              "          if (!dataTable) return;\n",
              "\n",
              "          const docLinkHtml = 'Like what you see? Visit the ' +\n",
              "            '<a target=\"_blank\" href=https://colab.research.google.com/notebooks/data_table.ipynb>data table notebook</a>'\n",
              "            + ' to learn more about interactive tables.';\n",
              "          element.innerHTML = '';\n",
              "          dataTable['output_type'] = 'display_data';\n",
              "          await google.colab.output.renderOutput(dataTable, element);\n",
              "          const docLink = document.createElement('div');\n",
              "          docLink.innerHTML = docLinkHtml;\n",
              "          element.appendChild(docLink);\n",
              "        }\n",
              "      </script>\n",
              "    </div>\n",
              "  </div>\n",
              "  "
            ]
          },
          "metadata": {},
          "execution_count": 11
        }
      ]
    },
    {
      "cell_type": "code",
      "source": [
        "from sklearn.model_selection import train_test_split\n",
        "X_train,X_test,y_train,y_test=train_test_split(X,y,test_size=0.33,random_state=42)"
      ],
      "metadata": {
        "id": "OQnzyDczYlkg"
      },
      "execution_count": 12,
      "outputs": []
    },
    {
      "cell_type": "code",
      "source": [
        "from sklearn.preprocessing import StandardScaler\n",
        "sc = StandardScaler()\n",
        "X_train = sc.fit_transform(X_train)\n",
        "X_test = sc.transform(X_test)"
      ],
      "metadata": {
        "id": "gPJj9GDMY5Sv"
      },
      "execution_count": 13,
      "outputs": []
    },
    {
      "cell_type": "code",
      "source": [
        "#ANN MODEL\n",
        "\n",
        "import keras\n",
        "from keras.models import Sequential\n",
        "from keras.layers import Dense\n",
        "from keras.layers import Dropout"
      ],
      "metadata": {
        "id": "wjllextBZBaK"
      },
      "execution_count": 14,
      "outputs": []
    },
    {
      "cell_type": "code",
      "source": [
        "from tensorflow.keras import initializers"
      ],
      "metadata": {
        "id": "9t_fx6IYb-1S"
      },
      "execution_count": 15,
      "outputs": []
    },
    {
      "cell_type": "code",
      "source": [
        "model = Sequential()\n",
        "model.add(Dense(units=11, activation='relu'))\n",
        "model.add(Dense(units=100, activation='relu',kernel_initializer=initializers.HeUniform()))\n",
        "model.add(Dense(units=50, activation='relu',kernel_initializer=initializers.GlorotUniform()))\n",
        "model.add(Dense(units=1,activation='sigmoid'))\n",
        "model.compile(optimizer='AdaDelta',loss='binary_crossentropy',metrics=['accuracy'])\n",
        "\n",
        "\n"
      ],
      "metadata": {
        "id": "8gF9EZH1Zagg"
      },
      "execution_count": 16,
      "outputs": []
    },
    {
      "cell_type": "code",
      "source": [
        "model_history=model.fit(X_train,y_train,batch_size=32,epochs=50,validation_split=0.20)"
      ],
      "metadata": {
        "colab": {
          "base_uri": "https://localhost:8080/"
        },
        "id": "sh5vsTvRbJZ2",
        "outputId": "144477a8-21d0-47f4-fa0b-de62c9da68a1"
      },
      "execution_count": 17,
      "outputs": [
        {
          "output_type": "stream",
          "name": "stdout",
          "text": [
            "Epoch 1/50\n",
            "168/168 [==============================] - 8s 11ms/step - loss: 0.9290 - accuracy: 0.2487 - val_loss: 0.9174 - val_accuracy: 0.2455\n",
            "Epoch 2/50\n",
            "168/168 [==============================] - 2s 9ms/step - loss: 0.9097 - accuracy: 0.2591 - val_loss: 0.8976 - val_accuracy: 0.2597\n",
            "Epoch 3/50\n",
            "168/168 [==============================] - 2s 9ms/step - loss: 0.8903 - accuracy: 0.2705 - val_loss: 0.8778 - val_accuracy: 0.2731\n",
            "Epoch 4/50\n",
            "168/168 [==============================] - 2s 10ms/step - loss: 0.8711 - accuracy: 0.2834 - val_loss: 0.8583 - val_accuracy: 0.2813\n",
            "Epoch 5/50\n",
            "168/168 [==============================] - 1s 8ms/step - loss: 0.8522 - accuracy: 0.2981 - val_loss: 0.8393 - val_accuracy: 0.3015\n",
            "Epoch 6/50\n",
            "168/168 [==============================] - 2s 10ms/step - loss: 0.8337 - accuracy: 0.3159 - val_loss: 0.8207 - val_accuracy: 0.3187\n",
            "Epoch 7/50\n",
            "168/168 [==============================] - 1s 8ms/step - loss: 0.8157 - accuracy: 0.3351 - val_loss: 0.8027 - val_accuracy: 0.3418\n",
            "Epoch 8/50\n",
            "168/168 [==============================] - 2s 10ms/step - loss: 0.7984 - accuracy: 0.3565 - val_loss: 0.7854 - val_accuracy: 0.3649\n",
            "Epoch 9/50\n",
            "168/168 [==============================] - 1s 8ms/step - loss: 0.7818 - accuracy: 0.3772 - val_loss: 0.7688 - val_accuracy: 0.3873\n",
            "Epoch 10/50\n",
            "168/168 [==============================] - 1s 8ms/step - loss: 0.7658 - accuracy: 0.4050 - val_loss: 0.7529 - val_accuracy: 0.4149\n",
            "Epoch 11/50\n",
            "168/168 [==============================] - 1s 9ms/step - loss: 0.7506 - accuracy: 0.4310 - val_loss: 0.7379 - val_accuracy: 0.4381\n",
            "Epoch 12/50\n",
            "168/168 [==============================] - 1s 8ms/step - loss: 0.7360 - accuracy: 0.4534 - val_loss: 0.7235 - val_accuracy: 0.4776\n",
            "Epoch 13/50\n",
            "168/168 [==============================] - 1s 5ms/step - loss: 0.7222 - accuracy: 0.4787 - val_loss: 0.7099 - val_accuracy: 0.5067\n",
            "Epoch 14/50\n",
            "168/168 [==============================] - 1s 5ms/step - loss: 0.7091 - accuracy: 0.5026 - val_loss: 0.6970 - val_accuracy: 0.5373\n",
            "Epoch 15/50\n",
            "168/168 [==============================] - 1s 5ms/step - loss: 0.6966 - accuracy: 0.5347 - val_loss: 0.6847 - val_accuracy: 0.5657\n",
            "Epoch 16/50\n",
            "168/168 [==============================] - 1s 5ms/step - loss: 0.6847 - accuracy: 0.5618 - val_loss: 0.6730 - val_accuracy: 0.6007\n",
            "Epoch 17/50\n",
            "168/168 [==============================] - 1s 5ms/step - loss: 0.6734 - accuracy: 0.5838 - val_loss: 0.6620 - val_accuracy: 0.6172\n",
            "Epoch 18/50\n",
            "168/168 [==============================] - 1s 5ms/step - loss: 0.6628 - accuracy: 0.6090 - val_loss: 0.6516 - val_accuracy: 0.6381\n",
            "Epoch 19/50\n",
            "168/168 [==============================] - 1s 5ms/step - loss: 0.6527 - accuracy: 0.6360 - val_loss: 0.6419 - val_accuracy: 0.6754\n",
            "Epoch 20/50\n",
            "168/168 [==============================] - 1s 5ms/step - loss: 0.6433 - accuracy: 0.6655 - val_loss: 0.6326 - val_accuracy: 0.7037\n",
            "Epoch 21/50\n",
            "168/168 [==============================] - 1s 5ms/step - loss: 0.6344 - accuracy: 0.6810 - val_loss: 0.6240 - val_accuracy: 0.7172\n",
            "Epoch 22/50\n",
            "168/168 [==============================] - 1s 5ms/step - loss: 0.6260 - accuracy: 0.6938 - val_loss: 0.6159 - val_accuracy: 0.7306\n",
            "Epoch 23/50\n",
            "168/168 [==============================] - 1s 5ms/step - loss: 0.6182 - accuracy: 0.7045 - val_loss: 0.6083 - val_accuracy: 0.7343\n",
            "Epoch 24/50\n",
            "168/168 [==============================] - 1s 5ms/step - loss: 0.6109 - accuracy: 0.7136 - val_loss: 0.6013 - val_accuracy: 0.7373\n",
            "Epoch 25/50\n",
            "168/168 [==============================] - 1s 5ms/step - loss: 0.6042 - accuracy: 0.7226 - val_loss: 0.5947 - val_accuracy: 0.7403\n",
            "Epoch 26/50\n",
            "168/168 [==============================] - 1s 5ms/step - loss: 0.5978 - accuracy: 0.7304 - val_loss: 0.5886 - val_accuracy: 0.7425\n",
            "Epoch 27/50\n",
            "168/168 [==============================] - 1s 5ms/step - loss: 0.5919 - accuracy: 0.7368 - val_loss: 0.5829 - val_accuracy: 0.7493\n",
            "Epoch 28/50\n",
            "168/168 [==============================] - 1s 5ms/step - loss: 0.5864 - accuracy: 0.7429 - val_loss: 0.5776 - val_accuracy: 0.7530\n",
            "Epoch 29/50\n",
            "168/168 [==============================] - 1s 5ms/step - loss: 0.5812 - accuracy: 0.7493 - val_loss: 0.5726 - val_accuracy: 0.7597\n",
            "Epoch 30/50\n",
            "168/168 [==============================] - 1s 5ms/step - loss: 0.5764 - accuracy: 0.7534 - val_loss: 0.5679 - val_accuracy: 0.7649\n",
            "Epoch 31/50\n",
            "168/168 [==============================] - 1s 5ms/step - loss: 0.5718 - accuracy: 0.7578 - val_loss: 0.5636 - val_accuracy: 0.7672\n",
            "Epoch 32/50\n",
            "168/168 [==============================] - 1s 5ms/step - loss: 0.5676 - accuracy: 0.7614 - val_loss: 0.5596 - val_accuracy: 0.7724\n",
            "Epoch 33/50\n",
            "168/168 [==============================] - 1s 5ms/step - loss: 0.5637 - accuracy: 0.7659 - val_loss: 0.5559 - val_accuracy: 0.7769\n",
            "Epoch 34/50\n",
            "168/168 [==============================] - 1s 4ms/step - loss: 0.5601 - accuracy: 0.7674 - val_loss: 0.5524 - val_accuracy: 0.7828\n",
            "Epoch 35/50\n",
            "168/168 [==============================] - 1s 5ms/step - loss: 0.5566 - accuracy: 0.7698 - val_loss: 0.5491 - val_accuracy: 0.7873\n",
            "Epoch 36/50\n",
            "168/168 [==============================] - 1s 5ms/step - loss: 0.5534 - accuracy: 0.7722 - val_loss: 0.5460 - val_accuracy: 0.7881\n",
            "Epoch 37/50\n",
            "168/168 [==============================] - 1s 5ms/step - loss: 0.5504 - accuracy: 0.7752 - val_loss: 0.5432 - val_accuracy: 0.7910\n",
            "Epoch 38/50\n",
            "168/168 [==============================] - 1s 5ms/step - loss: 0.5476 - accuracy: 0.7776 - val_loss: 0.5405 - val_accuracy: 0.7955\n",
            "Epoch 39/50\n",
            "168/168 [==============================] - 1s 5ms/step - loss: 0.5449 - accuracy: 0.7799 - val_loss: 0.5380 - val_accuracy: 0.7955\n",
            "Epoch 40/50\n",
            "168/168 [==============================] - 1s 5ms/step - loss: 0.5425 - accuracy: 0.7830 - val_loss: 0.5357 - val_accuracy: 0.7963\n",
            "Epoch 41/50\n",
            "168/168 [==============================] - 1s 5ms/step - loss: 0.5402 - accuracy: 0.7836 - val_loss: 0.5336 - val_accuracy: 0.7948\n",
            "Epoch 42/50\n",
            "168/168 [==============================] - 1s 5ms/step - loss: 0.5381 - accuracy: 0.7847 - val_loss: 0.5316 - val_accuracy: 0.7948\n",
            "Epoch 43/50\n",
            "168/168 [==============================] - 1s 5ms/step - loss: 0.5361 - accuracy: 0.7868 - val_loss: 0.5297 - val_accuracy: 0.7963\n",
            "Epoch 44/50\n",
            "168/168 [==============================] - 1s 5ms/step - loss: 0.5342 - accuracy: 0.7873 - val_loss: 0.5279 - val_accuracy: 0.7963\n",
            "Epoch 45/50\n",
            "168/168 [==============================] - 1s 5ms/step - loss: 0.5324 - accuracy: 0.7882 - val_loss: 0.5262 - val_accuracy: 0.7963\n",
            "Epoch 46/50\n",
            "168/168 [==============================] - 1s 5ms/step - loss: 0.5308 - accuracy: 0.7879 - val_loss: 0.5247 - val_accuracy: 0.7978\n",
            "Epoch 47/50\n",
            "168/168 [==============================] - 1s 5ms/step - loss: 0.5292 - accuracy: 0.7881 - val_loss: 0.5232 - val_accuracy: 0.7978\n",
            "Epoch 48/50\n",
            "168/168 [==============================] - 1s 5ms/step - loss: 0.5278 - accuracy: 0.7892 - val_loss: 0.5219 - val_accuracy: 0.7970\n",
            "Epoch 49/50\n",
            "168/168 [==============================] - 1s 5ms/step - loss: 0.5264 - accuracy: 0.7897 - val_loss: 0.5206 - val_accuracy: 0.7978\n",
            "Epoch 50/50\n",
            "168/168 [==============================] - 1s 5ms/step - loss: 0.5251 - accuracy: 0.7896 - val_loss: 0.5194 - val_accuracy: 0.7978\n"
          ]
        }
      ]
    },
    {
      "cell_type": "code",
      "source": [
        "print(model_history.history.keys())\n",
        "# summarize history for accuracy\n",
        "plt.plot(model_history.history['accuracy'])\n",
        "plt.plot(model_history.history['val_accuracy'])\n",
        "plt.title('model accuracy')\n",
        "plt.ylabel('Accuracy')\n",
        "plt.xlabel('Epoch')\n",
        "plt.legend(['train', 'test'], loc='upper left')\n",
        "plt.show()"
      ],
      "metadata": {
        "colab": {
          "base_uri": "https://localhost:8080/",
          "height": 312
        },
        "id": "p7aHE4emdpEQ",
        "outputId": "f64db0d8-a565-46be-94cd-7a31994497ca"
      },
      "execution_count": 18,
      "outputs": [
        {
          "output_type": "stream",
          "name": "stdout",
          "text": [
            "dict_keys(['loss', 'accuracy', 'val_loss', 'val_accuracy'])\n"
          ]
        },
        {
          "output_type": "display_data",
          "data": {
            "text/plain": [
              "<Figure size 432x288 with 1 Axes>"
            ],
            "image/png": "[encoded data removed]"
          },
          "metadata": {
            "needs_background": "light"
          }
        }
      ]
    },
    {
      "cell_type": "code",
      "source": [
        "model_history.history.keys()"
      ],
      "metadata": {
        "colab": {
          "base_uri": "https://localhost:8080/"
        },
        "id": "x5WuI8zLfNxj",
        "outputId": "cdcabb16-7be1-44ac-9875-e48b9196d271"
      },
      "execution_count": 19,
      "outputs": [
        {
          "output_type": "execute_result",
          "data": {
            "text/plain": [
              "dict_keys(['loss', 'accuracy', 'val_loss', 'val_accuracy'])"
            ]
          },
          "metadata": {},
          "execution_count": 19
        }
      ]
    },
    {
      "cell_type": "code",
      "source": [
        "# summarize history for loss\n",
        "plt.plot(model_history.history['loss'])\n",
        "plt.plot(model_history.history['val_loss'])\n",
        "plt.title('model loss')\n",
        "plt.ylabel('loss')\n",
        "plt.xlabel('epoch')\n",
        "plt.legend(['train', 'test'], loc='upper left')\n",
        "plt.show()"
      ],
      "metadata": {
        "colab": {
          "base_uri": "https://localhost:8080/",
          "height": 295
        },
        "id": "2BCSRK5dfZPO",
        "outputId": "a2d367c9-a6dd-4c77-93be-8a7563a85032"
      },
      "execution_count": 20,
      "outputs": [
        {
          "output_type": "display_data",
          "data": {
            "text/plain": [
              "<Figure size 432x288 with 1 Axes>"
            ],
            "image/png": "[encoded data removed]"
          },
          "metadata": {
            "needs_background": "light"
          }
        }
      ]
    },
    {
      "cell_type": "code",
      "source": [
        "y_pred = model.predict(X_test)\n",
        "y_pred = (y_pred > 0.5)"
      ],
      "metadata": {
        "id": "fGPskDoUfqX0"
      },
      "execution_count": 21,
      "outputs": []
    },
    {
      "cell_type": "code",
      "source": [
        "from sklearn.metrics import confusion_matrix\n",
        "cm = confusion_matrix(y_test, y_pred)\n",
        "\n",
        "# Calculate the Accuracy\n",
        "from sklearn.metrics import accuracy_score\n",
        "score=accuracy_score(y_pred,y_test)\n"
      ],
      "metadata": {
        "id": "0oTH2leqfzeY"
      },
      "execution_count": 22,
      "outputs": []
    },
    {
      "cell_type": "code",
      "source": [
        "cm"
      ],
      "metadata": {
        "colab": {
          "base_uri": "https://localhost:8080/"
        },
        "id": "Yj6iz_6sf10W",
        "outputId": "9b832e9c-8579-4b66-c8ec-838535b7ffb2"
      },
      "execution_count": 23,
      "outputs": [
        {
          "output_type": "execute_result",
          "data": {
            "text/plain": [
              "array([[2639,   18],\n",
              "       [ 623,   20]])"
            ]
          },
          "metadata": {},
          "execution_count": 23
        }
      ]
    },
    {
      "cell_type": "code",
      "source": [
        "score"
      ],
      "metadata": {
        "colab": {
          "base_uri": "https://localhost:8080/"
        },
        "id": "NnYHBRuTf3QL",
        "outputId": "9440a3a3-a092-420f-f4f5-47a61bc6558b"
      },
      "execution_count": 24,
      "outputs": [
        {
          "output_type": "execute_result",
          "data": {
            "text/plain": [
              "0.8057575757575758"
            ]
          },
          "metadata": {},
          "execution_count": 24
        }
      ]
    },
    {
      "cell_type": "code",
      "source": [
        "model.save('model.h5')"
      ],
      "metadata": {
        "id": "3pKx_wClf4uN"
      },
      "execution_count": 25,
      "outputs": []
    },
    {
      "cell_type": "code",
      "source": [
        "keras.models.load_model('model.h5')"
      ],
      "metadata": {
        "colab": {
          "base_uri": "https://localhost:8080/"
        },
        "id": "YldfwJNfgIV3",
        "outputId": "3779c361-1d4e-49ee-9a97-8ad6c261c3c0"
      },
      "execution_count": 26,
      "outputs": [
        {
          "output_type": "execute_result",
          "data": {
            "text/plain": [
              "<keras.engine.sequential.Sequential at 0x7fc73049c6d0>"
            ]
          },
          "metadata": {},
          "execution_count": 26
        }
      ]
    },
    {
      "cell_type": "code",
      "source": [
        "a=keras.models.load_model('model.h5')"
      ],
      "metadata": {
        "id": "aT1_LXD8gUlh"
      },
      "execution_count": 27,
      "outputs": []
    },
    {
      "cell_type": "code",
      "source": [
        "for layer in model.layers: \n",
        "  print(layer.get_config(), layer.get_weights())"
      ],
      "metadata": {
        "colab": {
          "base_uri": "https://localhost:8080/"
        },
        "id": "R9ZMZ3NugiNX",
        "outputId": "a745f7c3-08bb-4005-cacd-08db1b09b6ba"
      },
      "execution_count": 28,
      "outputs": [
        {
          "output_type": "stream",
          "name": "stdout",
          "text": [
            "{'name': 'dense', 'trainable': True, 'dtype': 'float32', 'units': 11, 'activation': 'relu', 'use_bias': True, 'kernel_initializer': {'class_name': 'GlorotUniform', 'config': {'seed': None}}, 'bias_initializer': {'class_name': 'Zeros', 'config': {}}, 'kernel_regularizer': None, 'bias_regularizer': None, 'activity_regularizer': None, 'kernel_constraint': None, 'bias_constraint': None} [array([[-0.23381709,  0.41147515, -0.4645634 ,  0.24708198,  0.3020399 ,\n",
            "         0.45449224,  0.2610177 , -0.18340322,  0.3278327 , -0.04417552,\n",
            "         0.4893699 ],\n",
            "       [-0.21947625, -0.00121733,  0.07927252, -0.20337537,  0.40286204,\n",
            "        -0.40338206, -0.15309146, -0.42460352,  0.0391194 , -0.15990663,\n",
            "        -0.06120552],\n",
            "       [-0.2615168 ,  0.01272488,  0.22758   ,  0.16664635, -0.47738206,\n",
            "         0.26336536, -0.32106546, -0.06083618,  0.27396345, -0.10218068,\n",
            "        -0.49480185],\n",
            "       [-0.5162016 ,  0.41479287,  0.43520433,  0.20768958,  0.30380532,\n",
            "         0.42746654,  0.23416592, -0.33688685, -0.32721788, -0.3956869 ,\n",
            "         0.4983022 ],\n",
            "       [ 0.2086656 ,  0.14677575, -0.5105298 , -0.50336754, -0.03890845,\n",
            "         0.00674134, -0.3707442 ,  0.29354474,  0.4638172 ,  0.46663922,\n",
            "         0.22608978],\n",
            "       [ 0.0897215 ,  0.50846744,  0.29749623, -0.4031372 ,  0.08936918,\n",
            "         0.4718702 ,  0.42519587, -0.20922643,  0.03937655, -0.4154666 ,\n",
            "         0.4264785 ],\n",
            "       [ 0.08609589, -0.4835342 , -0.4258477 ,  0.32330346,  0.4771682 ,\n",
            "        -0.34712198, -0.35542035,  0.10267211,  0.00439685, -0.18706533,\n",
            "         0.3492039 ],\n",
            "       [ 0.1754306 ,  0.22724395,  0.5040558 ,  0.14414227,  0.3531556 ,\n",
            "         0.32371026, -0.32722843, -0.01048511, -0.1278486 ,  0.30754298,\n",
            "        -0.10492644],\n",
            "       [ 0.2604861 , -0.21261373,  0.29730266,  0.1466821 , -0.02907601,\n",
            "        -0.30693612,  0.03123932, -0.04154555,  0.05948955,  0.38791874,\n",
            "         0.12958597],\n",
            "       [ 0.46513298, -0.4833412 ,  0.03720611, -0.21567953, -0.18527682,\n",
            "        -0.23131068, -0.48576432,  0.2994218 , -0.0703925 ,  0.49321643,\n",
            "         0.22510679],\n",
            "       [-0.39262235,  0.23799773,  0.15716934, -0.4601142 , -0.28293014,\n",
            "         0.09505414,  0.06903038,  0.05425441, -0.46494174, -0.3328524 ,\n",
            "         0.23647141]], dtype=float32), array([ 0.00351632, -0.00308372, -0.00789011, -0.00075063, -0.00604194,\n",
            "        0.00966359,  0.00835214,  0.00811579,  0.00418889, -0.0054389 ,\n",
            "        0.00660292], dtype=float32)]\n",
            "{'name': 'dense_1', 'trainable': True, 'dtype': 'float32', 'units': 100, 'activation': 'relu', 'use_bias': True, 'kernel_initializer': {'class_name': 'HeUniform', 'config': {'seed': None}}, 'bias_initializer': {'class_name': 'Zeros', 'config': {}}, 'kernel_regularizer': None, 'bias_regularizer': None, 'activity_regularizer': None, 'kernel_constraint': None, 'bias_constraint': None} [array([[ 0.11243716,  0.39578   , -0.4560205 , ..., -0.5532053 ,\n",
            "         0.40946394,  0.02686297],\n",
            "       [-0.57866454, -0.3635841 ,  0.24906558, ..., -0.5997298 ,\n",
            "         0.27136147,  0.5129819 ],\n",
            "       [ 0.11953905, -0.5684354 ,  0.03393637, ...,  0.2414622 ,\n",
            "        -0.23544276,  0.39704016],\n",
            "       ...,\n",
            "       [-0.09050922, -0.6094375 ,  0.2092489 , ...,  0.28452682,\n",
            "        -0.28872582,  0.20584363],\n",
            "       [-0.34122324,  0.53517425,  0.41606504, ..., -0.7128299 ,\n",
            "         0.17291793,  0.7215993 ],\n",
            "       [-0.16161644, -0.5421029 , -0.7035741 , ..., -0.68739015,\n",
            "         0.7244827 ,  0.29776764]], dtype=float32), array([ 0.00369905,  0.00375657,  0.0021583 ,  0.00247334,  0.00329006,\n",
            "        0.00904434, -0.01158231, -0.00275481, -0.01273393, -0.00831375,\n",
            "       -0.0085981 , -0.01456632,  0.01174773,  0.00642069, -0.00952516,\n",
            "       -0.00858361, -0.00603241, -0.01421856,  0.0094831 ,  0.01133918,\n",
            "        0.00300507, -0.00350242,  0.0154976 , -0.01159659, -0.00985246,\n",
            "       -0.00069568,  0.00341284,  0.00326309, -0.01271052,  0.00317167,\n",
            "       -0.00913984,  0.01299147, -0.00066664,  0.00732943,  0.00833912,\n",
            "        0.00817645,  0.00580956,  0.00205376,  0.00652172, -0.01015017,\n",
            "        0.00683289,  0.00407195, -0.0138831 , -0.00925857,  0.00599725,\n",
            "        0.00990166,  0.01328386,  0.00666258,  0.00055198, -0.0085671 ,\n",
            "       -0.00917209,  0.00424545,  0.01647273,  0.00300151, -0.01306507,\n",
            "       -0.01043458, -0.00836936,  0.00662409, -0.0006101 , -0.00705724,\n",
            "        0.01141767, -0.00437608, -0.00782046,  0.00818704, -0.00250077,\n",
            "       -0.00757211, -0.00795694,  0.0052711 ,  0.00526215, -0.0072024 ,\n",
            "       -0.00674591,  0.00887109,  0.00909379,  0.01125599,  0.00826172,\n",
            "        0.01408929,  0.01199502, -0.00587013, -0.00612761, -0.00206524,\n",
            "        0.0122666 ,  0.00700305,  0.00883876,  0.01192351,  0.0108464 ,\n",
            "       -0.00768326, -0.00255018, -0.00690195,  0.00115513, -0.00010236,\n",
            "        0.01124597,  0.00734133,  0.00727776, -0.00584844,  0.00857394,\n",
            "       -0.00965124, -0.00388352, -0.00198666, -0.01289294,  0.01074491],\n",
            "      dtype=float32)]\n",
            "{'name': 'dense_2', 'trainable': True, 'dtype': 'float32', 'units': 50, 'activation': 'relu', 'use_bias': True, 'kernel_initializer': {'class_name': 'GlorotUniform', 'config': {'seed': None}}, 'bias_initializer': {'class_name': 'Zeros', 'config': {}}, 'kernel_regularizer': None, 'bias_regularizer': None, 'activity_regularizer': None, 'kernel_constraint': None, 'bias_constraint': None} [array([[-0.01165702,  0.18000042, -0.10610031, ...,  0.10477766,\n",
            "         0.04702868,  0.07342538],\n",
            "       [-0.14078578,  0.05648572, -0.05696608, ...,  0.11128118,\n",
            "         0.0720979 ,  0.14888644],\n",
            "       [-0.06205674, -0.02605504,  0.04548572, ...,  0.1466199 ,\n",
            "         0.1786609 ,  0.00308129],\n",
            "       ...,\n",
            "       [-0.17705354,  0.19358604,  0.19710453, ..., -0.08811465,\n",
            "         0.04936001, -0.00994862],\n",
            "       [-0.07046165,  0.09804644,  0.12055707, ...,  0.0500683 ,\n",
            "         0.1454549 , -0.02604584],\n",
            "       [ 0.05391977,  0.06720884, -0.05680803, ...,  0.09550349,\n",
            "         0.15677208, -0.09238794]], dtype=float32), array([-0.00963094, -0.01003109,  0.01549234,  0.01268225,  0.01551914,\n",
            "        0.00669486, -0.01272189, -0.01269378, -0.00795627, -0.00066126,\n",
            "       -0.00795816,  0.01496414, -0.01479341, -0.00815259, -0.01388562,\n",
            "       -0.01256104, -0.00779777,  0.00333423,  0.0152275 ,  0.01018297,\n",
            "       -0.0145346 , -0.00960401,  0.00989974,  0.01567931,  0.01046375,\n",
            "       -0.01334394, -0.0119154 , -0.01285776, -0.00302343,  0.00105678,\n",
            "       -0.01497644,  0.01564014, -0.01241862,  0.01440857, -0.00928704,\n",
            "       -0.00235906, -0.01118552,  0.        ,  0.01381558,  0.01114592,\n",
            "       -0.00874596,  0.00301672,  0.01364585, -0.01458196, -0.00407994,\n",
            "       -0.00940914, -0.00316116,  0.01096452, -0.00788127,  0.01415527],\n",
            "      dtype=float32)]\n",
            "{'name': 'dense_3', 'trainable': True, 'dtype': 'float32', 'units': 1, 'activation': 'sigmoid', 'use_bias': True, 'kernel_initializer': {'class_name': 'GlorotUniform', 'config': {'seed': None}}, 'bias_initializer': {'class_name': 'Zeros', 'config': {}}, 'kernel_regularizer': None, 'bias_regularizer': None, 'activity_regularizer': None, 'kernel_constraint': None, 'bias_constraint': None} [array([[ 0.3157363 ],\n",
            "       [ 0.31977457],\n",
            "       [-0.12801571],\n",
            "       [-0.2993198 ],\n",
            "       [-0.3533521 ],\n",
            "       [-0.33228412],\n",
            "       [ 0.21142508],\n",
            "       [ 0.0105786 ],\n",
            "       [ 0.29583567],\n",
            "       [-0.00136163],\n",
            "       [ 0.14501531],\n",
            "       [-0.02205352],\n",
            "       [ 0.03931537],\n",
            "       [ 0.304898  ],\n",
            "       [ 0.1531761 ],\n",
            "       [ 0.03202447],\n",
            "       [ 0.05019138],\n",
            "       [-0.02492674],\n",
            "       [-0.21849583],\n",
            "       [-0.08595408],\n",
            "       [ 0.17307958],\n",
            "       [ 0.28373227],\n",
            "       [-0.04604485],\n",
            "       [-0.10771807],\n",
            "       [-0.11929317],\n",
            "       [ 0.25481442],\n",
            "       [ 0.14821647],\n",
            "       [ 0.16422394],\n",
            "       [ 0.08892576],\n",
            "       [-0.00967222],\n",
            "       [ 0.12254191],\n",
            "       [-0.14036363],\n",
            "       [ 0.15277408],\n",
            "       [-0.25071272],\n",
            "       [ 0.31477633],\n",
            "       [ 0.1053158 ],\n",
            "       [ 0.18140619],\n",
            "       [-0.15220292],\n",
            "       [-0.05624773],\n",
            "       [-0.1199989 ],\n",
            "       [ 0.3001959 ],\n",
            "       [-0.19974603],\n",
            "       [-0.15931259],\n",
            "       [ 0.05040676],\n",
            "       [ 0.00327263],\n",
            "       [ 0.06072531],\n",
            "       [ 0.07995436],\n",
            "       [-0.01532104],\n",
            "       [ 0.13786745],\n",
            "       [-0.2544169 ]], dtype=float32), array([-0.01549892], dtype=float32)]\n"
          ]
        }
      ]
    },
    {
      "cell_type": "markdown",
      "source": [
        "Keras Tuner"
      ],
      "metadata": {
        "id": "WXB1lP_dj_0z"
      }
    },
    {
      "cell_type": "code",
      "source": [
        "!pip install keras-tuner"
      ],
      "metadata": {
        "colab": {
          "base_uri": "https://localhost:8080/"
        },
        "id": "oOktskrClc-Z",
        "outputId": "88b87ff7-b770-4137-8f2f-fe8fb81d012d"
      },
      "execution_count": 29,
      "outputs": [
        {
          "output_type": "stream",
          "name": "stdout",
          "text": [
            "Collecting keras-tuner\n",
            "  Downloading keras_tuner-1.1.2-py3-none-any.whl (133 kB)\n",
            "\u001b[?25l\r\u001b[K     |██▌                             | 10 kB 20.0 MB/s eta 0:00:01\r\u001b[K     |█████                           | 20 kB 13.9 MB/s eta 0:00:01\r\u001b[K     |███████▍                        | 30 kB 7.2 MB/s eta 0:00:01\r\u001b[K     |█████████▉                      | 40 kB 6.3 MB/s eta 0:00:01\r\u001b[K     |████████████▎                   | 51 kB 4.7 MB/s eta 0:00:01\r\u001b[K     |██████████████▊                 | 61 kB 5.5 MB/s eta 0:00:01\r\u001b[K     |█████████████████▏              | 71 kB 5.8 MB/s eta 0:00:01\r\u001b[K     |███████████████████▋            | 81 kB 5.2 MB/s eta 0:00:01\r\u001b[K     |██████████████████████          | 92 kB 5.7 MB/s eta 0:00:01\r\u001b[K     |████████████████████████▌       | 102 kB 4.7 MB/s eta 0:00:01\r\u001b[K     |███████████████████████████     | 112 kB 4.7 MB/s eta 0:00:01\r\u001b[K     |█████████████████████████████▍  | 122 kB 4.7 MB/s eta 0:00:01\r\u001b[K     |███████████████████████████████▉| 133 kB 4.7 MB/s eta 0:00:01\r\u001b[K     |████████████████████████████████| 133 kB 4.7 MB/s \n",
            "\u001b[?25hRequirement already satisfied: tensorboard in /usr/local/lib/python3.7/dist-packages (from keras-tuner) (2.8.0)\n",
            "Requirement already satisfied: packaging in /usr/local/lib/python3.7/dist-packages (from keras-tuner) (21.3)\n",
            "Requirement already satisfied: numpy in /usr/local/lib/python3.7/dist-packages (from keras-tuner) (1.21.6)\n",
            "Collecting kt-legacy\n",
            "  Downloading kt_legacy-1.0.4-py3-none-any.whl (9.6 kB)\n",
            "Requirement already satisfied: ipython in /usr/local/lib/python3.7/dist-packages (from keras-tuner) (5.5.0)\n",
            "Requirement already satisfied: requests in /usr/local/lib/python3.7/dist-packages (from keras-tuner) (2.23.0)\n",
            "Requirement already satisfied: pexpect in /usr/local/lib/python3.7/dist-packages (from ipython->keras-tuner) (4.8.0)\n",
            "Requirement already satisfied: pickleshare in /usr/local/lib/python3.7/dist-packages (from ipython->keras-tuner) (0.7.5)\n",
            "Requirement already satisfied: pygments in /usr/local/lib/python3.7/dist-packages (from ipython->keras-tuner) (2.6.1)\n",
            "Requirement already satisfied: setuptools>=18.5 in /usr/local/lib/python3.7/dist-packages (from ipython->keras-tuner) (57.4.0)\n",
            "Requirement already satisfied: decorator in /usr/local/lib/python3.7/dist-packages (from ipython->keras-tuner) (4.4.2)\n",
            "Requirement already satisfied: prompt-toolkit<2.0.0,>=1.0.4 in /usr/local/lib/python3.7/dist-packages (from ipython->keras-tuner) (1.0.18)\n",
            "Requirement already satisfied: simplegeneric>0.8 in /usr/local/lib/python3.7/dist-packages (from ipython->keras-tuner) (0.8.1)\n",
            "Requirement already satisfied: traitlets>=4.2 in /usr/local/lib/python3.7/dist-packages (from ipython->keras-tuner) (5.1.1)\n",
            "Requirement already satisfied: six>=1.9.0 in /usr/local/lib/python3.7/dist-packages (from prompt-toolkit<2.0.0,>=1.0.4->ipython->keras-tuner) (1.15.0)\n",
            "Requirement already satisfied: wcwidth in /usr/local/lib/python3.7/dist-packages (from prompt-toolkit<2.0.0,>=1.0.4->ipython->keras-tuner) (0.2.5)\n",
            "Requirement already satisfied: pyparsing!=3.0.5,>=2.0.2 in /usr/local/lib/python3.7/dist-packages (from packaging->keras-tuner) (3.0.8)\n",
            "Requirement already satisfied: ptyprocess>=0.5 in /usr/local/lib/python3.7/dist-packages (from pexpect->ipython->keras-tuner) (0.7.0)\n",
            "Requirement already satisfied: urllib3!=1.25.0,!=1.25.1,<1.26,>=1.21.1 in /usr/local/lib/python3.7/dist-packages (from requests->keras-tuner) (1.24.3)\n",
            "Requirement already satisfied: chardet<4,>=3.0.2 in /usr/local/lib/python3.7/dist-packages (from requests->keras-tuner) (3.0.4)\n",
            "Requirement already satisfied: certifi>=2017.4.17 in /usr/local/lib/python3.7/dist-packages (from requests->keras-tuner) (2021.10.8)\n",
            "Requirement already satisfied: idna<3,>=2.5 in /usr/local/lib/python3.7/dist-packages (from requests->keras-tuner) (2.10)\n",
            "Requirement already satisfied: google-auth-oauthlib<0.5,>=0.4.1 in /usr/local/lib/python3.7/dist-packages (from tensorboard->keras-tuner) (0.4.6)\n",
            "Requirement already satisfied: markdown>=2.6.8 in /usr/local/lib/python3.7/dist-packages (from tensorboard->keras-tuner) (3.3.6)\n",
            "Requirement already satisfied: tensorboard-plugin-wit>=1.6.0 in /usr/local/lib/python3.7/dist-packages (from tensorboard->keras-tuner) (1.8.1)\n",
            "Requirement already satisfied: werkzeug>=0.11.15 in /usr/local/lib/python3.7/dist-packages (from tensorboard->keras-tuner) (1.0.1)\n",
            "Requirement already satisfied: google-auth<3,>=1.6.3 in /usr/local/lib/python3.7/dist-packages (from tensorboard->keras-tuner) (1.35.0)\n",
            "Requirement already satisfied: absl-py>=0.4 in /usr/local/lib/python3.7/dist-packages (from tensorboard->keras-tuner) (1.0.0)\n",
            "Requirement already satisfied: protobuf>=3.6.0 in /usr/local/lib/python3.7/dist-packages (from tensorboard->keras-tuner) (3.17.3)\n",
            "Requirement already satisfied: tensorboard-data-server<0.7.0,>=0.6.0 in /usr/local/lib/python3.7/dist-packages (from tensorboard->keras-tuner) (0.6.1)\n",
            "Requirement already satisfied: grpcio>=1.24.3 in /usr/local/lib/python3.7/dist-packages (from tensorboard->keras-tuner) (1.44.0)\n",
            "Requirement already satisfied: wheel>=0.26 in /usr/local/lib/python3.7/dist-packages (from tensorboard->keras-tuner) (0.37.1)\n",
            "Requirement already satisfied: rsa<5,>=3.1.4 in /usr/local/lib/python3.7/dist-packages (from google-auth<3,>=1.6.3->tensorboard->keras-tuner) (4.8)\n",
            "Requirement already satisfied: pyasn1-modules>=0.2.1 in /usr/local/lib/python3.7/dist-packages (from google-auth<3,>=1.6.3->tensorboard->keras-tuner) (0.2.8)\n",
            "Requirement already satisfied: cachetools<5.0,>=2.0.0 in /usr/local/lib/python3.7/dist-packages (from google-auth<3,>=1.6.3->tensorboard->keras-tuner) (4.2.4)\n",
            "Requirement already satisfied: requests-oauthlib>=0.7.0 in /usr/local/lib/python3.7/dist-packages (from google-auth-oauthlib<0.5,>=0.4.1->tensorboard->keras-tuner) (1.3.1)\n",
            "Requirement already satisfied: importlib-metadata>=4.4 in /usr/local/lib/python3.7/dist-packages (from markdown>=2.6.8->tensorboard->keras-tuner) (4.11.3)\n",
            "Requirement already satisfied: zipp>=0.5 in /usr/local/lib/python3.7/dist-packages (from importlib-metadata>=4.4->markdown>=2.6.8->tensorboard->keras-tuner) (3.8.0)\n",
            "Requirement already satisfied: typing-extensions>=3.6.4 in /usr/local/lib/python3.7/dist-packages (from importlib-metadata>=4.4->markdown>=2.6.8->tensorboard->keras-tuner) (4.2.0)\n",
            "Requirement already satisfied: pyasn1<0.5.0,>=0.4.6 in /usr/local/lib/python3.7/dist-packages (from pyasn1-modules>=0.2.1->google-auth<3,>=1.6.3->tensorboard->keras-tuner) (0.4.8)\n",
            "Requirement already satisfied: oauthlib>=3.0.0 in /usr/local/lib/python3.7/dist-packages (from requests-oauthlib>=0.7.0->google-auth-oauthlib<0.5,>=0.4.1->tensorboard->keras-tuner) (3.2.0)\n",
            "Installing collected packages: kt-legacy, keras-tuner\n",
            "Successfully installed keras-tuner-1.1.2 kt-legacy-1.0.4\n"
          ]
        }
      ]
    },
    {
      "cell_type": "code",
      "source": [
        "from keras_tuner.tuners import RandomSearch"
      ],
      "metadata": {
        "id": "pd91lR6EhDxo"
      },
      "execution_count": 30,
      "outputs": []
    },
    {
      "cell_type": "code",
      "source": [
        "import tensorflow as tf\n",
        "def build_model(hp):\n",
        "    model = keras.Sequential()\n",
        "    for i in range(hp.Int('num_layers', 2, 20)):\n",
        "        model.add(Dense(units=hp.Int('units_' + str(i),\n",
        "                                            min_value=32,\n",
        "                                            max_value=512,\n",
        "                                            step=32),\n",
        "                               activation='relu'))\n",
        "    model.add(Dense(1, activation='sigmoid'))\n",
        "    model.compile(\n",
        "        optimizer=tf.keras.optimizers.Adam(\n",
        "            hp.Choice('learning_rate', [1e-2, 1e-3, 1e-4])),\n",
        "        loss='binary_crossentropy',\n",
        "        metrics=['accuracy'])\n",
        "    return model"
      ],
      "metadata": {
        "id": "dD-Bc7MekBKq"
      },
      "execution_count": 32,
      "outputs": []
    },
    {
      "cell_type": "code",
      "source": [
        "import keras_tuner as kt\n",
        "tuner = kt.RandomSearch(\n",
        "    build_model,\n",
        "    objective='val_loss',\n",
        "    max_trials=5,\n",
        "    directory='churn-model',\n",
        "    project_name='churn'\n",
        "    )"
      ],
      "metadata": {
        "id": "VUn0HbnpkDzD"
      },
      "execution_count": 33,
      "outputs": []
    },
    {
      "cell_type": "code",
      "source": [
        "tuner.search_space_summary()"
      ],
      "metadata": {
        "colab": {
          "base_uri": "https://localhost:8080/"
        },
        "id": "t66Vv65yl9Sz",
        "outputId": "c5f5fa1d-05c4-4e3c-8d62-c079cf0c573c"
      },
      "execution_count": 34,
      "outputs": [
        {
          "output_type": "stream",
          "name": "stdout",
          "text": [
            "Search space summary\n",
            "Default search space size: 4\n",
            "num_layers (Int)\n",
            "{'default': None, 'conditions': [], 'min_value': 2, 'max_value': 20, 'step': 1, 'sampling': None}\n",
            "units_0 (Int)\n",
            "{'default': None, 'conditions': [], 'min_value': 32, 'max_value': 512, 'step': 32, 'sampling': None}\n",
            "units_1 (Int)\n",
            "{'default': None, 'conditions': [], 'min_value': 32, 'max_value': 512, 'step': 32, 'sampling': None}\n",
            "learning_rate (Choice)\n",
            "{'default': 0.01, 'conditions': [], 'values': [0.01, 0.001, 0.0001], 'ordered': True}\n"
          ]
        }
      ]
    },
    {
      "cell_type": "code",
      "source": [
        "tuner.search(X_train, y_train,\n",
        "             epochs=5,\n",
        "             validation_data=(X_test, y_test))"
      ],
      "metadata": {
        "colab": {
          "base_uri": "https://localhost:8080/"
        },
        "id": "FgTf8IsZnCt0",
        "outputId": "626b774b-d71e-439b-9f1d-284f07bfe48a"
      },
      "execution_count": 35,
      "outputs": [
        {
          "output_type": "stream",
          "name": "stdout",
          "text": [
            "Trial 5 Complete [00h 00m 11s]\n",
            "val_loss: 0.36318084597587585\n",
            "\n",
            "Best val_loss So Far: 0.3374718129634857\n",
            "Total elapsed time: 00h 00m 52s\n",
            "INFO:tensorflow:Oracle triggered exit\n"
          ]
        }
      ]
    },
    {
      "cell_type": "code",
      "source": [
        "best_model = tuner.get_best_models()[0]"
      ],
      "metadata": {
        "id": "pcGXLEgknMvR"
      },
      "execution_count": 36,
      "outputs": []
    },
    {
      "cell_type": "code",
      "source": [
        "tuner.get_best_models()[0]"
      ],
      "metadata": {
        "colab": {
          "base_uri": "https://localhost:8080/"
        },
        "id": "Ik6G9Oypnj4R",
        "outputId": "30cc05a0-9b69-410e-820e-496c13b5654f"
      },
      "execution_count": 37,
      "outputs": [
        {
          "output_type": "execute_result",
          "data": {
            "text/plain": [
              "<keras.engine.sequential.Sequential at 0x7fc6beb03550>"
            ]
          },
          "metadata": {},
          "execution_count": 37
        }
      ]
    },
    {
      "cell_type": "code",
      "source": [
        "tuner.results_summary()"
      ],
      "metadata": {
        "colab": {
          "base_uri": "https://localhost:8080/"
        },
        "id": "t1i5GnYdnlWH",
        "outputId": "8b74c904-dab7-4aed-f7cf-eacdb10cb303"
      },
      "execution_count": 38,
      "outputs": [
        {
          "output_type": "stream",
          "name": "stdout",
          "text": [
            "Results summary\n",
            "Results in churn-model/churn\n",
            "Showing 10 best trials\n",
            "<keras_tuner.engine.objective.Objective object at 0x7fc6becd8810>\n",
            "Trial summary\n",
            "Hyperparameters:\n",
            "num_layers: 4\n",
            "units_0: 448\n",
            "units_1: 288\n",
            "learning_rate: 0.0001\n",
            "units_2: 192\n",
            "units_3: 224\n",
            "units_4: 480\n",
            "units_5: 416\n",
            "Score: 0.3374718129634857\n",
            "Trial summary\n",
            "Hyperparameters:\n",
            "num_layers: 9\n",
            "units_0: 224\n",
            "units_1: 160\n",
            "learning_rate: 0.001\n",
            "units_2: 288\n",
            "units_3: 96\n",
            "units_4: 288\n",
            "units_5: 288\n",
            "units_6: 32\n",
            "units_7: 32\n",
            "units_8: 32\n",
            "Score: 0.337561696767807\n",
            "Trial summary\n",
            "Hyperparameters:\n",
            "num_layers: 6\n",
            "units_0: 480\n",
            "units_1: 288\n",
            "learning_rate: 0.0001\n",
            "units_2: 32\n",
            "units_3: 32\n",
            "units_4: 32\n",
            "units_5: 32\n",
            "Score: 0.3404535949230194\n",
            "Trial summary\n",
            "Hyperparameters:\n",
            "num_layers: 11\n",
            "units_0: 64\n",
            "units_1: 352\n",
            "learning_rate: 0.01\n",
            "units_2: 512\n",
            "units_3: 128\n",
            "units_4: 288\n",
            "units_5: 256\n",
            "units_6: 352\n",
            "units_7: 128\n",
            "units_8: 64\n",
            "units_9: 224\n",
            "units_10: 416\n",
            "units_11: 480\n",
            "units_12: 224\n",
            "units_13: 512\n",
            "units_14: 64\n",
            "Score: 0.36318084597587585\n",
            "Trial summary\n",
            "Hyperparameters:\n",
            "num_layers: 15\n",
            "units_0: 128\n",
            "units_1: 416\n",
            "learning_rate: 0.01\n",
            "units_2: 512\n",
            "units_3: 352\n",
            "units_4: 512\n",
            "units_5: 288\n",
            "units_6: 416\n",
            "units_7: 224\n",
            "units_8: 128\n",
            "units_9: 32\n",
            "units_10: 32\n",
            "units_11: 32\n",
            "units_12: 32\n",
            "units_13: 32\n",
            "units_14: 32\n",
            "Score: 0.4352106750011444\n"
          ]
        }
      ]
    },
    {
      "cell_type": "code",
      "source": [
        ""
      ],
      "metadata": {
        "id": "Iy7odfB-n0Yo"
      },
      "execution_count": null,
      "outputs": []
    }
  ]
}