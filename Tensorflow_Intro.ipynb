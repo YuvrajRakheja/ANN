{
  "nbformat": 4,
  "nbformat_minor": 0,
  "metadata": {
    "colab": {
      "name": "Tensorflow-Intro.ipynb",
      "provenance": [],
      "authorship_tag": "ABX9TyPaVN8ZTxiqzf3zFB1KUKsq",
      "include_colab_link": true
    },
    "kernelspec": {
      "name": "python3",
      "display_name": "Python 3"
    },
    "language_info": {
      "name": "python"
    },
    "accelerator": "GPU"
  },
  "cells": [
    {
      "cell_type": "markdown",
      "metadata": {
        "id": "view-in-github",
        "colab_type": "text"
      },
      "source": [
        "<a href=\"https://colab.research.google.com/github/YuvrajRakheja/ANN/blob/main/Tensorflow_Intro.ipynb\" target=\"_parent\"><img src=\"https://colab.research.google.com/assets/colab-badge.svg\" alt=\"Open In Colab\"/></a>"
      ]
    },
    {
      "cell_type": "code",
      "execution_count": 1,
      "metadata": {
        "id": "fn4BeNrAIMsf"
      },
      "outputs": [],
      "source": [
        "import tensorflow as tf"
      ]
    },
    {
      "cell_type": "code",
      "source": [
        "print(tf.__version__)"
      ],
      "metadata": {
        "colab": {
          "base_uri": "https://localhost:8080/"
        },
        "id": "bQ7U8MCAIQC1",
        "outputId": "6f11fc6f-ed05-43bd-e941-6c5c7368c5fe"
      },
      "execution_count": 2,
      "outputs": [
        {
          "output_type": "stream",
          "name": "stdout",
          "text": [
            "2.8.0\n"
          ]
        }
      ]
    },
    {
      "cell_type": "markdown",
      "source": [
        "==>Tensorflow(Basic Functions) \n",
        "\n",
        "1.ANN Build\n",
        "\n",
        "2.How to select number of hidden layers and neurons\n",
        "\n",
        "3.Keras -Tuner(DL==>Randomized Search CV"
      ],
      "metadata": {
        "id": "bEwowgGyIiX9"
      }
    },
    {
      "cell_type": "code",
      "source": [
        "import tensorflow as tf\n",
        "print(\"Tensorflow version:{}\".format(tf.__version__))\n",
        "print(\"Keras version:{}\".format(tf.keras.__version__))"
      ],
      "metadata": {
        "colab": {
          "base_uri": "https://localhost:8080/"
        },
        "id": "Uoo17CVXITzZ",
        "outputId": "c0f02ed8-0326-4627-dd77-3b867084ec52"
      },
      "execution_count": 3,
      "outputs": [
        {
          "output_type": "stream",
          "name": "stdout",
          "text": [
            "Tensorflow version:2.8.0\n",
            "Keras version:2.8.0\n"
          ]
        }
      ]
    },
    {
      "cell_type": "code",
      "source": [
        "tf.test.is_gpu_available()"
      ],
      "metadata": {
        "colab": {
          "base_uri": "https://localhost:8080/"
        },
        "id": "8yinGaDOJhkp",
        "outputId": "7cbaae3f-1cac-4c92-b58b-9fe00c1a6822"
      },
      "execution_count": 4,
      "outputs": [
        {
          "output_type": "stream",
          "name": "stdout",
          "text": [
            "WARNING:tensorflow:From <ipython-input-4-17bb7203622b>:1: is_gpu_available (from tensorflow.python.framework.test_util) is deprecated and will be removed in a future version.\n",
            "Instructions for updating:\n",
            "Use `tf.config.list_physical_devices('GPU')` instead.\n"
          ]
        },
        {
          "output_type": "execute_result",
          "data": {
            "text/plain": [
              "True"
            ]
          },
          "metadata": {},
          "execution_count": 4
        }
      ]
    },
    {
      "cell_type": "code",
      "source": [
        "k=tf.constant(42)"
      ],
      "metadata": {
        "id": "nNNnXnnhJ6qy"
      },
      "execution_count": 5,
      "outputs": []
    },
    {
      "cell_type": "code",
      "source": [
        "k"
      ],
      "metadata": {
        "colab": {
          "base_uri": "https://localhost:8080/"
        },
        "id": "y8n92PV7J_lI",
        "outputId": "ed93f039-4340-4803-f463-bff924dcaca3"
      },
      "execution_count": 6,
      "outputs": [
        {
          "output_type": "execute_result",
          "data": {
            "text/plain": [
              "<tf.Tensor: shape=(), dtype=int32, numpy=42>"
            ]
          },
          "metadata": {},
          "execution_count": 6
        }
      ]
    },
    {
      "cell_type": "code",
      "source": [
        "a=tf.constant([[4,2],[9,5]])"
      ],
      "metadata": {
        "id": "7o6OGD2tKAfz"
      },
      "execution_count": 7,
      "outputs": []
    },
    {
      "cell_type": "code",
      "source": [
        "a"
      ],
      "metadata": {
        "colab": {
          "base_uri": "https://localhost:8080/"
        },
        "id": "KheHxKthLAoT",
        "outputId": "df5f5314-16f6-4373-d94e-14606a09af1c"
      },
      "execution_count": 8,
      "outputs": [
        {
          "output_type": "execute_result",
          "data": {
            "text/plain": [
              "<tf.Tensor: shape=(2, 2), dtype=int32, numpy=\n",
              "array([[4, 2],\n",
              "       [9, 5]], dtype=int32)>"
            ]
          },
          "metadata": {},
          "execution_count": 8
        }
      ]
    },
    {
      "cell_type": "code",
      "source": [
        "tf.random.uniform(shape=(2,2),minval=0,maxval=10,dtype=tf.int32)"
      ],
      "metadata": {
        "colab": {
          "base_uri": "https://localhost:8080/"
        },
        "id": "xIL66VbILBdW",
        "outputId": "75c226ac-1172-422c-b15e-e1f102fc96e3"
      },
      "execution_count": 11,
      "outputs": [
        {
          "output_type": "execute_result",
          "data": {
            "text/plain": [
              "<tf.Tensor: shape=(2, 2), dtype=int32, numpy=\n",
              "array([[8, 6],\n",
              "       [0, 5]], dtype=int32)>"
            ]
          },
          "metadata": {},
          "execution_count": 11
        }
      ]
    },
    {
      "cell_type": "code",
      "source": [
        "tf.random.normal(shape=(2,2),mean=0.0,stddev=1.0)"
      ],
      "metadata": {
        "colab": {
          "base_uri": "https://localhost:8080/"
        },
        "id": "6ZmktA2cLzn4",
        "outputId": "dd591b58-a7b9-4095-8cd4-271ecab2f7b9"
      },
      "execution_count": 13,
      "outputs": [
        {
          "output_type": "execute_result",
          "data": {
            "text/plain": [
              "<tf.Tensor: shape=(2, 2), dtype=float32, numpy=\n",
              "array([[ 0.26463163, -0.5338081 ],\n",
              "       [-0.90587   , -0.89413345]], dtype=float32)>"
            ]
          },
          "metadata": {},
          "execution_count": 13
        }
      ]
    },
    {
      "cell_type": "code",
      "source": [
        "a1 = tf.constant([[3,4,5], [3,4,5]])\n",
        "a2= tf.constant([[1,2,3], [1,2,3]])\n",
        "\n",
        "c=tf.add(a1,a2)\n"
      ],
      "metadata": {
        "id": "zn9xn8peL-c1"
      },
      "execution_count": 14,
      "outputs": []
    },
    {
      "cell_type": "code",
      "source": [
        "c"
      ],
      "metadata": {
        "colab": {
          "base_uri": "https://localhost:8080/"
        },
        "id": "v4w0onEStcc7",
        "outputId": "ce8c8b10-26f7-4112-9902-d9e447cf50d0"
      },
      "execution_count": 15,
      "outputs": [
        {
          "output_type": "execute_result",
          "data": {
            "text/plain": [
              "<tf.Tensor: shape=(2, 3), dtype=int32, numpy=\n",
              "array([[4, 6, 8],\n",
              "       [4, 6, 8]], dtype=int32)>"
            ]
          },
          "metadata": {},
          "execution_count": 15
        }
      ]
    },
    {
      "cell_type": "code",
      "source": [
        "d=tf.Variable(23)\n"
      ],
      "metadata": {
        "id": "Q82ZSmVgtdMm"
      },
      "execution_count": 16,
      "outputs": []
    },
    {
      "cell_type": "code",
      "source": [
        "tensor = tf.Variable([ [ [10, 1, 12], [13, 14, 15] ], [ [16, 17, 18], [19, 20, 21] ] ,[[3, 4, 5],[8, 9, 10]]]) # tensor variable\n",
        "print(tensor.shape)"
      ],
      "metadata": {
        "colab": {
          "base_uri": "https://localhost:8080/"
        },
        "id": "2lgKU6wutk6T",
        "outputId": "f7ee5c74-2e04-4277-e449-d8c5cc035155"
      },
      "execution_count": 22,
      "outputs": [
        {
          "output_type": "stream",
          "name": "stdout",
          "text": [
            "(3, 2, 3)\n"
          ]
        }
      ]
    },
    {
      "cell_type": "code",
      "source": [
        "tensor1 = tf.reshape(tensor,[3,6])"
      ],
      "metadata": {
        "id": "U-VPnvgftqM4"
      },
      "execution_count": 25,
      "outputs": []
    },
    {
      "cell_type": "code",
      "source": [
        "tensor1"
      ],
      "metadata": {
        "colab": {
          "base_uri": "https://localhost:8080/"
        },
        "id": "YwpetdNEv6kX",
        "outputId": "d08f51fe-a2af-4c19-d150-2f403bddfe13"
      },
      "execution_count": 26,
      "outputs": [
        {
          "output_type": "execute_result",
          "data": {
            "text/plain": [
              "<tf.Tensor: shape=(3, 6), dtype=int32, numpy=\n",
              "array([[10,  1, 12, 13, 14, 15],\n",
              "       [16, 17, 18, 19, 20, 21],\n",
              "       [ 3,  4,  5,  8,  9, 10]], dtype=int32)>"
            ]
          },
          "metadata": {},
          "execution_count": 26
        }
      ]
    },
    {
      "cell_type": "code",
      "source": [
        "tensor1.numpy()"
      ],
      "metadata": {
        "colab": {
          "base_uri": "https://localhost:8080/"
        },
        "id": "Q6gBSmAzv-cj",
        "outputId": "6071c647-d241-4f42-b89e-2a4187001407"
      },
      "execution_count": 27,
      "outputs": [
        {
          "output_type": "execute_result",
          "data": {
            "text/plain": [
              "array([[10,  1, 12, 13, 14, 15],\n",
              "       [16, 17, 18, 19, 20, 21],\n",
              "       [ 3,  4,  5,  8,  9, 10]], dtype=int32)"
            ]
          },
          "metadata": {},
          "execution_count": 27
        }
      ]
    },
    {
      "cell_type": "code",
      "source": [
        ""
      ],
      "metadata": {
        "id": "3K4RyP5Mw2yP"
      },
      "execution_count": null,
      "outputs": []
    }
  ]
}